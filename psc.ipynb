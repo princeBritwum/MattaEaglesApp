{
 "cells": [
  {
   "cell_type": "code",
   "execution_count": 23,
   "metadata": {},
   "outputs": [
    {
     "name": "stdout",
     "output_type": "stream",
     "text": [
      "Columns Exist\n"
     ]
    },
    {
     "ename": "InvalidIndexError",
     "evalue": "('Last Name', 'First Name', 'Email Address', ['MAD Box Review Questions'])",
     "output_type": "error",
     "traceback": [
      "\u001b[31m---------------------------------------------------------------------------\u001b[39m",
      "\u001b[31mTypeError\u001b[39m                                 Traceback (most recent call last)",
      "\u001b[36mFile \u001b[39m\u001b[32m/usr/local/lib/python3.12/site-packages/pandas/core/indexes/base.py:3812\u001b[39m, in \u001b[36mIndex.get_loc\u001b[39m\u001b[34m(self, key)\u001b[39m\n\u001b[32m   3811\u001b[39m \u001b[38;5;28;01mtry\u001b[39;00m:\n\u001b[32m-> \u001b[39m\u001b[32m3812\u001b[39m     \u001b[38;5;28;01mreturn\u001b[39;00m \u001b[38;5;28;43mself\u001b[39;49m\u001b[43m.\u001b[49m\u001b[43m_engine\u001b[49m\u001b[43m.\u001b[49m\u001b[43mget_loc\u001b[49m\u001b[43m(\u001b[49m\u001b[43mcasted_key\u001b[49m\u001b[43m)\u001b[49m\n\u001b[32m   3813\u001b[39m \u001b[38;5;28;01mexcept\u001b[39;00m \u001b[38;5;167;01mKeyError\u001b[39;00m \u001b[38;5;28;01mas\u001b[39;00m err:\n",
      "\u001b[36mFile \u001b[39m\u001b[32mpandas/_libs/index.pyx:167\u001b[39m, in \u001b[36mpandas._libs.index.IndexEngine.get_loc\u001b[39m\u001b[34m()\u001b[39m\n",
      "\u001b[36mFile \u001b[39m\u001b[32mpandas/_libs/index.pyx:173\u001b[39m, in \u001b[36mpandas._libs.index.IndexEngine.get_loc\u001b[39m\u001b[34m()\u001b[39m\n",
      "\u001b[31mTypeError\u001b[39m: '('Last Name', 'First Name', 'Email Address', ['MAD Box Review Questions'])' is an invalid key",
      "\nDuring handling of the above exception, another exception occurred:\n",
      "\u001b[31mInvalidIndexError\u001b[39m                         Traceback (most recent call last)",
      "\u001b[36mCell\u001b[39m\u001b[36m \u001b[39m\u001b[32mIn[23]\u001b[39m\u001b[32m, line 12\u001b[39m\n\u001b[32m      8\u001b[39m \u001b[38;5;28;01mif\u001b[39;00m Testname \u001b[38;5;129;01min\u001b[39;00m columns_name:\n\u001b[32m      9\u001b[39m     \u001b[38;5;28mprint\u001b[39m(\u001b[33m\"\u001b[39m\u001b[33mColumns Exist\u001b[39m\u001b[33m\"\u001b[39m)\n\u001b[32m---> \u001b[39m\u001b[32m12\u001b[39m data = \u001b[43mdata\u001b[49m\u001b[43m[\u001b[49m\u001b[33;43m\"\u001b[39;49m\u001b[33;43mLast Name\u001b[39;49m\u001b[33;43m\"\u001b[39;49m\u001b[43m,\u001b[49m\u001b[33;43m\"\u001b[39;49m\u001b[33;43mFirst Name\u001b[39;49m\u001b[33;43m\"\u001b[39;49m\u001b[43m,\u001b[49m\u001b[33;43m'\u001b[39;49m\u001b[33;43mEmail Address\u001b[39;49m\u001b[33;43m'\u001b[39;49m\u001b[43m,\u001b[49m\u001b[43m[\u001b[49m\u001b[43mTestname\u001b[49m\u001b[43m]\u001b[49m\u001b[43m]\u001b[49m\n\u001b[32m     14\u001b[39m data = data.drop(index = [\u001b[32m0\u001b[39m,\u001b[32m1\u001b[39m])\n\u001b[32m     16\u001b[39m data[\u001b[33m'\u001b[39m\u001b[33mStudent Name\u001b[39m\u001b[33m'\u001b[39m] = data[\u001b[33m\"\u001b[39m\u001b[33mLast Name\u001b[39m\u001b[33m\"\u001b[39m] + \u001b[33m'\u001b[39m\u001b[33m, \u001b[39m\u001b[33m'\u001b[39m + data[\u001b[33m\"\u001b[39m\u001b[33mFirst Name\u001b[39m\u001b[33m\"\u001b[39m]\n",
      "\u001b[36mFile \u001b[39m\u001b[32m/usr/local/lib/python3.12/site-packages/pandas/core/frame.py:4107\u001b[39m, in \u001b[36mDataFrame.__getitem__\u001b[39m\u001b[34m(self, key)\u001b[39m\n\u001b[32m   4105\u001b[39m \u001b[38;5;28;01mif\u001b[39;00m \u001b[38;5;28mself\u001b[39m.columns.nlevels > \u001b[32m1\u001b[39m:\n\u001b[32m   4106\u001b[39m     \u001b[38;5;28;01mreturn\u001b[39;00m \u001b[38;5;28mself\u001b[39m._getitem_multilevel(key)\n\u001b[32m-> \u001b[39m\u001b[32m4107\u001b[39m indexer = \u001b[38;5;28;43mself\u001b[39;49m\u001b[43m.\u001b[49m\u001b[43mcolumns\u001b[49m\u001b[43m.\u001b[49m\u001b[43mget_loc\u001b[49m\u001b[43m(\u001b[49m\u001b[43mkey\u001b[49m\u001b[43m)\u001b[49m\n\u001b[32m   4108\u001b[39m \u001b[38;5;28;01mif\u001b[39;00m is_integer(indexer):\n\u001b[32m   4109\u001b[39m     indexer = [indexer]\n",
      "\u001b[36mFile \u001b[39m\u001b[32m/usr/local/lib/python3.12/site-packages/pandas/core/indexes/base.py:3824\u001b[39m, in \u001b[36mIndex.get_loc\u001b[39m\u001b[34m(self, key)\u001b[39m\n\u001b[32m   3819\u001b[39m     \u001b[38;5;28;01mraise\u001b[39;00m \u001b[38;5;167;01mKeyError\u001b[39;00m(key) \u001b[38;5;28;01mfrom\u001b[39;00m\u001b[38;5;250m \u001b[39m\u001b[34;01merr\u001b[39;00m\n\u001b[32m   3820\u001b[39m \u001b[38;5;28;01mexcept\u001b[39;00m \u001b[38;5;167;01mTypeError\u001b[39;00m:\n\u001b[32m   3821\u001b[39m     \u001b[38;5;66;03m# If we have a listlike key, _check_indexing_error will raise\u001b[39;00m\n\u001b[32m   3822\u001b[39m     \u001b[38;5;66;03m#  InvalidIndexError. Otherwise we fall through and re-raise\u001b[39;00m\n\u001b[32m   3823\u001b[39m     \u001b[38;5;66;03m#  the TypeError.\u001b[39;00m\n\u001b[32m-> \u001b[39m\u001b[32m3824\u001b[39m     \u001b[38;5;28;43mself\u001b[39;49m\u001b[43m.\u001b[49m\u001b[43m_check_indexing_error\u001b[49m\u001b[43m(\u001b[49m\u001b[43mkey\u001b[49m\u001b[43m)\u001b[49m\n\u001b[32m   3825\u001b[39m     \u001b[38;5;28;01mraise\u001b[39;00m\n",
      "\u001b[36mFile \u001b[39m\u001b[32m/usr/local/lib/python3.12/site-packages/pandas/core/indexes/base.py:6072\u001b[39m, in \u001b[36mIndex._check_indexing_error\u001b[39m\u001b[34m(self, key)\u001b[39m\n\u001b[32m   6068\u001b[39m \u001b[38;5;28;01mdef\u001b[39;00m\u001b[38;5;250m \u001b[39m\u001b[34m_check_indexing_error\u001b[39m(\u001b[38;5;28mself\u001b[39m, key):\n\u001b[32m   6069\u001b[39m     \u001b[38;5;28;01mif\u001b[39;00m \u001b[38;5;129;01mnot\u001b[39;00m is_scalar(key):\n\u001b[32m   6070\u001b[39m         \u001b[38;5;66;03m# if key is not a scalar, directly raise an error (the code below\u001b[39;00m\n\u001b[32m   6071\u001b[39m         \u001b[38;5;66;03m# would convert to numpy arrays and raise later any way) - GH29926\u001b[39;00m\n\u001b[32m-> \u001b[39m\u001b[32m6072\u001b[39m         \u001b[38;5;28;01mraise\u001b[39;00m InvalidIndexError(key)\n",
      "\u001b[31mInvalidIndexError\u001b[39m: ('Last Name', 'First Name', 'Email Address', ['MAD Box Review Questions'])"
     ]
    }
   ],
   "source": [
    "import pandas as pd\n",
    "Testname = input(\"Enter the Test name\")\n",
    "\n",
    "data = pd.read_csv(\"/home/a222534/PythonLearn/MattaEaglesApp/Introduction_To_Robotics62526 (2).csv\")\n",
    "columns_name = list(data.columns)\n",
    "\n",
    "\n",
    "if Testname in columns_name:\n",
    "    print(\"Columns Exist\")\n",
    "    \n",
    "    \n",
    "data = data[\"Last Name\",\"First Name\",'Email Address',[Testname]]\n",
    "\n",
    "data = data.drop(index = [0,1])\n",
    "\n",
    "data['Student Name'] = data[\"Last Name\"] + ', ' + data[\"First Name\"]\n",
    "\n",
    "data = data.drop([\"Last Name\",\"First Name\"], axis=1)\n",
    "\n",
    "data['Email Address'] = data[data.columns[2]].str.replace(\"@dallasisd.org\",\"\")\n",
    "\n",
    "data.rename(columns = {'Email Address':'Student Num'}, inplace = True)   \n",
    "\n",
    "#data = data.drop(data.columns[[2]],axis =1)\n",
    "    \n",
    "print(data)"
   ]
  },
  {
   "cell_type": "code",
   "execution_count": 27,
   "metadata": {},
   "outputs": [
    {
     "name": "stdout",
     "output_type": "stream",
     "text": [
      "    Score               Student Name Student Num\n",
      "2   100.0             Rodriguez, Ana     4248066\n",
      "3   100.0             Balderas, Aron     5258110\n",
      "4    80.0             Hoffman, Asher     5016708\n",
      "5    20.0              McDade, Aydan     5035683\n",
      "6    60.0               Tovar, Ayden     4192331\n",
      "7    80.0           Gonzales, Elijah     5002592\n",
      "8   100.0  Castillo-Contreras, Emily     5031822\n",
      "9    40.0       Villanueva, Emmanuel     4186576\n",
      "10  100.0     Santoyo Vazquez, Jadeh     4195129\n",
      "11   60.0           Santoyo, Jasmine     4218381\n",
      "12   80.0             French, Jasper     4162066\n",
      "13   80.0           Calderon, Josiah     4159933\n",
      "14   60.0             Mojarro, Julio     4224816\n",
      "15   60.0           Kirkpatrick, Kai     5194162\n",
      "16   60.0              Escobar, Luis     5001008\n",
      "17    0.0  Sanchez Antillon, Metztli     5145126\n",
      "18  100.0          Anderson, Natalie     5018040\n",
      "19   60.0   Carrillo Flores, Ronaldo     4225906\n",
      "20   60.0         Quirino, Sebastian     5182678\n",
      "21   60.0               Dowdy, Silas     5011200\n",
      "22   60.0                Dix, Simone     4223286\n",
      "23   80.0            Ratliff, Tamsin     5002617\n",
      "24   60.0      Orozco-Videla, Thiago     5098737\n",
      "25   60.0             Suarez, Victor     5001264\n",
      "26   60.0           Macareno, Zayden     5018366\n",
      "27   60.0               Sanchez, Zoe     4157919\n",
      "28   40.0                Tomba, Zuri     5001406\n"
     ]
    }
   ],
   "source": [
    "import pandas as pd\n",
    "\n",
    "Testname = input(\"Enter the Test name\")\n",
    "\n",
    "data = pd.read_csv(\"/home/a222534/PythonLearn/MattaEaglesApp/Introduction_To_Robotics62526 (2).csv\")\n",
    "\n",
    "data = data.drop(index = [0,1])\n",
    "\n",
    "data['Score'] = data[Testname]\n",
    "\n",
    "colums_to_keep = [\"Last Name\",\"First Name\",'Email Address','Score']\n",
    "\n",
    "data = data[colums_to_keep]\n",
    "\n",
    "data['Student Name'] = data[\"Last Name\"] + ', ' + data[\"First Name\"]\n",
    "\n",
    "data[\"Student Num\"] = data['Email Address'].str.replace(\"@dallasisd.org\",\"\")\n",
    "\n",
    "columns_to_drop  = [\"Last Name\",\"First Name\",'Email Address']\n",
    "\n",
    "data = data.drop(columns = columns_to_drop,axis =1)\n",
    "    \n",
    "\n",
    "print(data)"
   ]
  }
 ],
 "metadata": {
  "kernelspec": {
   "display_name": "Python 3",
   "language": "python",
   "name": "python3"
  },
  "language_info": {
   "codemirror_mode": {
    "name": "ipython",
    "version": 3
   },
   "file_extension": ".py",
   "mimetype": "text/x-python",
   "name": "python",
   "nbconvert_exporter": "python",
   "pygments_lexer": "ipython3",
   "version": "3.12.11"
  }
 },
 "nbformat": 4,
 "nbformat_minor": 2
}
